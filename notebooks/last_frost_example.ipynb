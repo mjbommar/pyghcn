{
 "cells": [
  {
   "cell_type": "code",
   "execution_count": 1,
   "metadata": {},
   "outputs": [],
   "source": [
    "# $ pip install jupyter matplotlib seaborn\n",
    "\n",
    "# setup path for dev library\n",
    "import sys\n",
    "sys.path.append('../')\n",
    "\n",
    "# import this package\n",
    "from pyghcn.client import *\n",
    "from pyghcn.data import *"
   ]
  },
  {
   "cell_type": "code",
   "execution_count": 2,
   "metadata": {
    "pycharm": {
     "name": "#%%\n"
    }
   },
   "outputs": [],
   "source": [
    "# import libraries\n",
    "import datetime\n",
    "import numpy\n",
    "import matplotlib.pyplot as plt\n",
    "import seaborn\n",
    "\n",
    "# ipython widget setup\n",
    "import ipywidgets\n",
    "from IPython.display import display"
   ]
  },
  {
   "cell_type": "code",
   "execution_count": 3,
   "metadata": {
    "pycharm": {
     "name": "#%%\n"
    }
   },
   "outputs": [],
   "source": [
    "# get and parse station data\n",
    "station_df = get_station_list_data()"
   ]
  },
  {
   "cell_type": "code",
   "execution_count": 4,
   "metadata": {
    "pycharm": {
     "name": "#%%\n"
    }
   },
   "outputs": [
    {
     "data": {
      "application/vnd.jupyter.widget-view+json": {
       "model_id": "da8151966ba64f4bb9a07971ec44ae24",
       "version_major": 2,
       "version_minor": 0
      },
      "text/plain": [
       "BoundedFloatText(value=41.22, description='Latitude:', max=90.0, min=-90.0, step=0.001)"
      ]
     },
     "metadata": {},
     "output_type": "display_data"
    },
    {
     "data": {
      "application/vnd.jupyter.widget-view+json": {
       "model_id": "533852c1c63240c8bbd7f196151c24cb",
       "version_major": 2,
       "version_minor": 0
      },
      "text/plain": [
       "BoundedFloatText(value=-112.406, description='Longitude:', max=180.0, min=-180.0, step=0.001)"
      ]
     },
     "metadata": {},
     "output_type": "display_data"
    },
    {
     "data": {
      "application/vnd.jupyter.widget-view+json": {
       "model_id": "f351b2984cc347ff8dfcd421639b6f68",
       "version_major": 2,
       "version_minor": 0
      },
      "text/plain": [
       "Dropdown(description='Radius Unit:', index=1, options=(('Kilometer', 'km'), ('Mile', 'mi')), value='mi')"
      ]
     },
     "metadata": {},
     "output_type": "display_data"
    },
    {
     "data": {
      "application/vnd.jupyter.widget-view+json": {
       "model_id": "a102bea5ebb34f329aaf9b809a04fd8b",
       "version_major": 2,
       "version_minor": 0
      },
      "text/plain": [
       "BoundedFloatText(value=30.0, description='Radius:', max=1000.0, step=0.1)"
      ]
     },
     "metadata": {},
     "output_type": "display_data"
    }
   ],
   "source": [
    "widget_lat = ipywidgets.BoundedFloatText(\n",
    "    value=41.220,\n",
    "    min=-90,\n",
    "    max=90,\n",
    "    step=0.001,\n",
    "    description='Latitude:',\n",
    "    disabled=False\n",
    ")\n",
    "\n",
    "widget_long = ipywidgets.BoundedFloatText(\n",
    "    value=-112.406,\n",
    "    min=-180,\n",
    "    max=180,\n",
    "    step=0.001,\n",
    "    description='Longitude:',\n",
    "    disabled=False\n",
    ")\n",
    "\n",
    "widget_radius_unit = ipywidgets.Dropdown(\n",
    "    options=[('Kilometer', 'km'),\n",
    "             ('Mile', 'mi'),\n",
    "             ],\n",
    "    value='mi',\n",
    "    description='Radius Unit:',\n",
    "    disabled=False\n",
    ")\n",
    "\n",
    "widget_radius_value = ipywidgets.BoundedFloatText(\n",
    "    value=30,\n",
    "    min=0,\n",
    "    max=1000,\n",
    "    step=0.1,\n",
    "    description='Radius:',\n",
    "    disabled=False\n",
    ")\n",
    "\n",
    "display(widget_lat, widget_long, widget_radius_unit, widget_radius_value)"
   ]
  },
  {
   "cell_type": "code",
   "execution_count": 5,
   "metadata": {
    "pycharm": {
     "name": "#%%\n"
    }
   },
   "outputs": [
    {
     "name": "stdout",
     "output_type": "stream",
     "text": [
      "Loaded 51 stations.\n"
     ]
    }
   ],
   "source": [
    "# get nearest stations\n",
    "nearby_stations = get_nearby_stations(station_df,\n",
    "                                      widget_lat.value,\n",
    "                                      widget_long.value,\n",
    "                                      widget_radius_value.value,\n",
    "                                      widget_radius_unit.value)\n",
    "print(f\"Loaded {len(nearby_stations)} stations.\")"
   ]
  },
  {
   "cell_type": "code",
   "execution_count": 6,
   "metadata": {
    "pycharm": {
     "name": "#%%\n"
    }
   },
   "outputs": [
    {
     "name": "stdout",
     "output_type": "stream",
     "text": [
      "US1UTBE0002 2008 2022\n",
      "US1UTBE0009 2010 2022\n",
      "US1UTBE0014 2015 2022\n",
      "US1UTDV0001 2008 2022\n",
      "US1UTDV0005 2008 2021\n",
      "US1UTDV0017 2011 2015\n",
      "US1UTDV0020 2009 2012\n",
      "US1UTDV0024 2013 2022\n",
      "US1UTDV0040 2020 2022\n",
      "US1UTWB0001 2008 2022\n",
      "US1UTWB0003 2008 2022\n",
      "US1UTWB0005 2008 2011\n",
      "US1UTWB0008 2009 2018\n",
      "US1UTWB0009 2010 2011\n",
      "US1UTWB0011 2009 2011\n",
      "US1UTWB0012 2010 2010\n",
      "US1UTWB0015 2010 2015\n",
      "US1UTWB0017 2011 2013\n",
      "US1UTWB0018 2011 2019\n",
      "USC00420194 1952 1972\n",
      "USC00420197 1973 1983\n",
      "USC00420490 1969 1996\n",
      "USC00420506 1937 1984\n",
      "USC00420924 1899 1974\n",
      "USC00420928 1974 2022\n",
      "USC00421731 1896 2006\n",
      "USC00422726 1948 2016\n",
      "USC00424050 1911 1913\n",
      "USC00424140 1980 1981\n",
      "USC00424846 1951 1968\n",
      "USC00424970 2011 2013\n",
      "USC00425607 1911 1981\n",
      "USC00426400 1893 1940\n",
      "USC00426404 1902 2010\n",
      "USC00426405 2011 2022\n",
      "USC00426414 1924 2009\n",
      "USC00426869 1935 2022\n",
      "USC00427050 1896 1913\n",
      "USC00427052 1981 1994\n",
      "USC00427318 1914 1991\n",
      "USC00427438 1916 1919\n",
      "USC00427565 1966 1968\n",
      "USC00427924 1981 1984\n",
      "USC00428885 1940 1960\n",
      "USC00429346 1962 2022\n",
      "USR0000BUES 1983 2022\n",
      "USS0011H08S 1978 2022\n",
      "USS0011H30S 1980 2022\n",
      "USW00004138 2007 2022\n",
      "USW00024101 1946 1970\n",
      "USW00024126 1948 2022\n"
     ]
    }
   ],
   "source": [
    "# retrieve data from these stations\n",
    "daily_tmin_station_data = {}\n",
    "daily_tmax_station_data = {}\n",
    "daily_prcp_station_data = {}\n",
    "\n",
    "for station_id in nearby_stations:\n",
    "    daily_df = get_station_daily_data(station_id)\n",
    "    print(station_id, daily_df['YEAR'].min(), daily_df['YEAR'].max())\n",
    "\n",
    "    daily_tmin_station_data[station_id] = extract_series_from_daily_data(\"TMIN\", daily_df).replace(-9999, numpy.nan)\n",
    "    daily_tmax_station_data[station_id] = extract_series_from_daily_data(\"TMAX\", daily_df).replace(-9999, numpy.nan)\n",
    "    daily_prcp_station_data[station_id] = extract_series_from_daily_data(\"PRCP\", daily_df).replace(-9999, numpy.nan)"
   ]
  },
  {
   "cell_type": "code",
   "execution_count": 7,
   "metadata": {
    "pycharm": {
     "name": "#%%\n"
    }
   },
   "outputs": [],
   "source": [
    "# get average time series\n",
    "tmin_mean_ts = pandas.DataFrame(daily_tmin_station_data).mean(axis=1)\n",
    "tmax_mean_ts = pandas.DataFrame(daily_tmax_station_data).mean(axis=1)\n",
    "prcp_mean_ts = pandas.DataFrame(daily_prcp_station_data).mean(axis=1)\n",
    "\n",
    "# get range time series\n",
    "tmin_std_ts = pandas.DataFrame(daily_tmin_station_data).std(axis=1)\n",
    "tmax_std_ts = pandas.DataFrame(daily_tmax_station_data).std(axis=1)\n",
    "prcp_std_ts = pandas.DataFrame(daily_prcp_station_data).std(axis=1)\n",
    "\n",
    "# get range time series\n",
    "tmin_range_ts = pandas.DataFrame(daily_tmin_station_data).max(axis=1) - pandas.DataFrame(daily_tmin_station_data).min(axis=1)\n",
    "tmax_range_ts = pandas.DataFrame(daily_tmax_station_data).max(axis=1) - pandas.DataFrame(daily_tmax_station_data).min(axis=1)\n",
    "prcp_range_ts = pandas.DataFrame(daily_prcp_station_data).max(axis=1) - pandas.DataFrame(daily_prcp_station_data).min(axis=1)"
   ]
  },
  {
   "cell_type": "code",
   "execution_count": 8,
   "metadata": {},
   "outputs": [
    {
     "data": {
      "application/vnd.jupyter.widget-view+json": {
       "model_id": "a723180093904c9ea2931fb08767674e",
       "version_major": 2,
       "version_minor": 0
      },
      "text/plain": [
       "BoundedIntText(value=2000, description='Start Year:', max=2022, min=1900)"
      ]
     },
     "metadata": {},
     "output_type": "display_data"
    }
   ],
   "source": [
    "# get start year\n",
    "widget_start_year = ipywidgets.BoundedIntText(\n",
    "    value=2000,\n",
    "    min=1900,\n",
    "    max=datetime.date.today().year,\n",
    "    step=1,\n",
    "    description='Start Year:',\n",
    "    disabled=False\n",
    ")\n",
    "\n",
    "display(widget_start_year)"
   ]
  },
  {
   "cell_type": "code",
   "execution_count": 9,
   "metadata": {},
   "outputs": [
    {
     "data": {
      "image/png": "[encoded data removed]",
      "text/plain": [
       "<Figure size 1152x576 with 2 Axes>"
      ]
     },
     "metadata": {
      "needs_background": "light"
     },
     "output_type": "display_data"
    }
   ],
   "source": [
    "# get only recent data\n",
    "start_date = datetime.date(widget_start_year.value, 1, 1)\n",
    "\n",
    "f, ax  = plt.subplots(2, 1, figsize=(16, 8))\n",
    "\n",
    "_ = ax[0].plot((tmin_mean_ts.loc[tmin_mean_ts.index >= start_date] / 10.0 * 9 / 5) + 32, color='#3366cc', alpha=0.25)\n",
    "_ = ax[0].plot((tmax_mean_ts.loc[tmax_mean_ts.index >= start_date] / 10.0 * 9 / 5) + 32, color='#cc3333', alpha=0.25)\n",
    "_ = ax[0].set_title(\"Min and max temperature\")\n",
    "_ = ax[0].set_ylabel(\"Temperature (F)\")\n",
    "\n",
    "_ = ax[1].plot((prcp_mean_ts.loc[prcp_mean_ts.index >= start_date] / 10) / 25, color='#333333', alpha=0.5)\n",
    "_ = ax[1].set_title(\"Precipitation\")\n",
    "_ = ax[1].set_ylabel(\"Precipitation (in.)\")\n"
   ]
  },
  {
   "cell_type": "code",
   "execution_count": 10,
   "metadata": {},
   "outputs": [
    {
     "data": {
      "application/vnd.jupyter.widget-view+json": {
       "model_id": "f81c833f8462424ea50c9bb9b26e2470",
       "version_major": 2,
       "version_minor": 0
      },
      "text/plain": [
       "BoundedFloatText(value=33.0, description='Freeze Temp (F):', min=-100.0, step=0.1)"
      ]
     },
     "metadata": {},
     "output_type": "display_data"
    }
   ],
   "source": [
    "# get start year\n",
    "widget_temp_threshold = ipywidgets.BoundedFloatText(\n",
    "    value=33,\n",
    "    min=-100,\n",
    "    max=100,\n",
    "    step=0.1,\n",
    "    description='Freeze Temp (F):',\n",
    "    disabled=False\n",
    ")\n",
    "\n",
    "window_start_md = (1, 1)\n",
    "window_end_md = (6, 30)\n",
    "\n",
    "display(widget_temp_threshold)"
   ]
  },
  {
   "cell_type": "code",
   "execution_count": 11,
   "metadata": {},
   "outputs": [
    {
     "data": {
      "text/html": [
       "<div>\n",
       "<style scoped>\n",
       "    .dataframe tbody tr th:only-of-type {\n",
       "        vertical-align: middle;\n",
       "    }\n",
       "\n",
       "    .dataframe tbody tr th {\n",
       "        vertical-align: top;\n",
       "    }\n",
       "\n",
       "    .dataframe thead th {\n",
       "        text-align: right;\n",
       "    }\n",
       "</style>\n",
       "<table border=\"1\" class=\"dataframe\">\n",
       "  <thead>\n",
       "    <tr style=\"text-align: right;\">\n",
       "      <th></th>\n",
       "      <th>year</th>\n",
       "      <th>d0_count</th>\n",
       "      <th>d0</th>\n",
       "      <th>t0</th>\n",
       "      <th>d1</th>\n",
       "      <th>t1</th>\n",
       "      <th>d2</th>\n",
       "      <th>t2</th>\n",
       "    </tr>\n",
       "  </thead>\n",
       "  <tbody>\n",
       "    <tr>\n",
       "      <th>16</th>\n",
       "      <td>2016</td>\n",
       "      <td>106</td>\n",
       "      <td>2016-04-16</td>\n",
       "      <td>31.66</td>\n",
       "      <td>2016-04-15</td>\n",
       "      <td>31.82</td>\n",
       "      <td>2016-04-06</td>\n",
       "      <td>31.84</td>\n",
       "    </tr>\n",
       "    <tr>\n",
       "      <th>17</th>\n",
       "      <td>2017</td>\n",
       "      <td>137</td>\n",
       "      <td>2017-05-18</td>\n",
       "      <td>27.64</td>\n",
       "      <td>2017-05-17</td>\n",
       "      <td>30.10</td>\n",
       "      <td>2017-04-29</td>\n",
       "      <td>30.34</td>\n",
       "    </tr>\n",
       "    <tr>\n",
       "      <th>18</th>\n",
       "      <td>2018</td>\n",
       "      <td>107</td>\n",
       "      <td>2018-04-18</td>\n",
       "      <td>27.10</td>\n",
       "      <td>2018-04-17</td>\n",
       "      <td>29.92</td>\n",
       "      <td>2018-04-14</td>\n",
       "      <td>30.84</td>\n",
       "    </tr>\n",
       "    <tr>\n",
       "      <th>19</th>\n",
       "      <td>2019</td>\n",
       "      <td>121</td>\n",
       "      <td>2019-05-02</td>\n",
       "      <td>31.62</td>\n",
       "      <td>2019-05-01</td>\n",
       "      <td>30.90</td>\n",
       "      <td>2019-04-13</td>\n",
       "      <td>31.88</td>\n",
       "    </tr>\n",
       "    <tr>\n",
       "      <th>20</th>\n",
       "      <td>2020</td>\n",
       "      <td>108</td>\n",
       "      <td>2020-04-18</td>\n",
       "      <td>30.96</td>\n",
       "      <td>2020-04-17</td>\n",
       "      <td>24.94</td>\n",
       "      <td>2020-04-16</td>\n",
       "      <td>29.14</td>\n",
       "    </tr>\n",
       "  </tbody>\n",
       "</table>\n",
       "</div>"
      ],
      "text/plain": [
       "    year  d0_count          d0     t0          d1     t1          d2     t2\n",
       "16  2016       106  2016-04-16  31.66  2016-04-15  31.82  2016-04-06  31.84\n",
       "17  2017       137  2017-05-18  27.64  2017-05-17  30.10  2017-04-29  30.34\n",
       "18  2018       107  2018-04-18  27.10  2018-04-17  29.92  2018-04-14  30.84\n",
       "19  2019       121  2019-05-02  31.62  2019-05-01  30.90  2019-04-13  31.88\n",
       "20  2020       108  2020-04-18  30.96  2020-04-17  24.94  2020-04-16  29.14"
      ]
     },
     "execution_count": 11,
     "metadata": {},
     "output_type": "execute_result"
    }
   ],
   "source": [
    "# set thresholds and dates\n",
    "threshold = (widget_temp_threshold.value - 32) * 5/9\n",
    "\n",
    "# build table and output\n",
    "lf_table_rows = []\n",
    "for year in range(2000, 2021):\n",
    "    year_fh_min_ts = tmin_mean_ts.loc[(tmin_mean_ts.index >= datetime.date(year, \n",
    "                                                                           window_start_md[0],\n",
    "                                                                           window_start_md[1])) & \n",
    "                                   (tmin_mean_ts.index <= datetime.date(year,\n",
    "                                                                        window_end_md[0],\n",
    "                                                                        window_end_md[1]))]\n",
    "    fh_frost_dates = year_fh_min_ts.index[year_fh_min_ts <= threshold]\n",
    "    fh_frost_day_counts = [(d - datetime.date(year, 1, 1)).days for d in fh_frost_dates]\n",
    "    d0_count = (fh_frost_dates[-1] - datetime.date(year, 1, 1)).days\n",
    "    lf_table_rows.append((year,\n",
    "                          d0_count,\n",
    "                          fh_frost_dates[-1],\n",
    "                          year_fh_min_ts.loc[fh_frost_dates[-1]] / 10.0 * 9 / 5 + 32,\n",
    "                          fh_frost_dates[-2],\n",
    "                          year_fh_min_ts.loc[fh_frost_dates[-2]] / 10.0 * 9 / 5 + 32,\n",
    "                          fh_frost_dates[-3],\n",
    "                          year_fh_min_ts.loc[fh_frost_dates[-3]] / 10.0 * 9 / 5 + 32,                         \n",
    "                         ))\n",
    "    \n",
    "# build df and output tail\n",
    "lf_table_df  = pandas.DataFrame(lf_table_rows, columns=[\"year\", \"d0_count\",\n",
    "                                                        \"d0\", \"t0\",\n",
    "                                                       \"d1\", \"t1\",\n",
    "                                                       \"d2\", \"t2\"])\n",
    "lf_table_df.tail()"
   ]
  },
  {
   "cell_type": "code",
   "execution_count": 16,
   "metadata": {},
   "outputs": [
    {
     "data": {
      "image/png": "[encoded data removed]",
      "text/plain": [
       "<Figure size 432x288 with 1 Axes>"
      ]
     },
     "metadata": {
      "needs_background": "light"
     },
     "output_type": "display_data"
    }
   ],
   "source": [
    "_ = lf_table_df[\"d0_count\"].hist()"
   ]
  },
  {
   "cell_type": "code",
   "execution_count": 12,
   "metadata": {},
   "outputs": [
    {
     "data": {
      "application/vnd.jupyter.widget-view+json": {
       "model_id": "ec76298002af4a73b5f7a814a778b944",
       "version_major": 2,
       "version_minor": 0
      },
      "text/plain": [
       "BoundedIntText(value=90, description='Percentile:')"
      ]
     },
     "metadata": {},
     "output_type": "display_data"
    }
   ],
   "source": [
    "# setup percentile threshold widget\n",
    "widget_percentile = ipywidgets.BoundedIntText(\n",
    "    value=90,\n",
    "    min=0,\n",
    "    max=100,\n",
    "    step=1,\n",
    "    description='Percentile:',\n",
    "    disabled=False\n",
    ")\n",
    "\n",
    "display(widget_percentile)"
   ]
  },
  {
   "cell_type": "code",
   "execution_count": 13,
   "metadata": {},
   "outputs": [
    {
     "name": "stdout",
     "output_type": "stream",
     "text": [
      "Estimated 90 %-tile frost date: 2022-05-13\n"
     ]
    }
   ],
   "source": [
    "# get percentile date for this year\n",
    "d0_pct_value = lf_table_df[\"d0_count\"].quantile(widget_percentile.value / 100.0)\n",
    "pct_estimate_date = datetime.date(datetime.date.today().year, 1, 1) + datetime.timedelta(days=d0_pct_value)\n",
    "print(f\"Estimated {widget_percentile.value} %-tile frost date: {pct_estimate_date}\")"
   ]
  }
 ],
 "metadata": {
  "kernelspec": {
   "display_name": "Python 3 (ipykernel)",
   "language": "python",
   "name": "python3"
  },
  "language_info": {
   "codemirror_mode": {
    "name": "ipython",
    "version": 3
   },
   "file_extension": ".py",
   "mimetype": "text/x-python",
   "name": "python",
   "nbconvert_exporter": "python",
   "pygments_lexer": "ipython3",
   "version": "3.8.10"
  }
 },
 "nbformat": 4,
 "nbformat_minor": 1
}